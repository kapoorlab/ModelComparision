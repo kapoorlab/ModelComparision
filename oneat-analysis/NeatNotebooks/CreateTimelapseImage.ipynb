{
 "cells": [
  {
   "cell_type": "code",
   "execution_count": 1,
   "metadata": {},
   "outputs": [],
   "source": [
    "import sys\n",
    "import os\n",
    "os.environ[\"CUDA_VISIBLE_DEVICES\"]=\"\"\n",
    "import glob\n",
    "sys.path.append(\"../AnalyzeCSV\")\n",
    "import numpy as np\n",
    "from tifffile import imread\n",
    "from CreateImages import TimelapseImage, TwoDImage, CountTimeLapseevents\n",
    "try:\n",
    "    from pathlib import Path\n",
    "    Path().expanduser()\n",
    "except (ImportError,AttributeError):\n",
    "    from pathlib2 import Path\n",
    "\n",
    "try:\n",
    "    import tempfile\n",
    "    tempfile.TemporaryDirectory\n",
    "except (ImportError,AttributeError):\n",
    "    from backports import tempfile"
   ]
  },
  {
   "cell_type": "markdown",
   "metadata": {},
   "source": [
    "# Input the event names as they appear on the csv files"
   ]
  },
  {
   "cell_type": "code",
   "execution_count": 2,
   "metadata": {},
   "outputs": [],
   "source": [
    "#Event File Append names\n",
    "Division = 'ONETDivisionLocation'\n",
    "Apoptosis = 'ONETApoptosisLocation'\n",
    "Mature = 'ONETMatureLocation'\n",
    "NonMature = 'ONETNonMatureLocation'\n",
    "Macrocheate = 'ONETMacroKittyLocation'"
   ]
  },
  {
   "cell_type": "markdown",
   "metadata": {},
   "source": [
    "# The block below opens all the csv files and needs the Image directory they correspond to. It will then generate images with dots showing where the event was found"
   ]
  },
  {
   "cell_type": "code",
   "execution_count": 3,
   "metadata": {},
   "outputs": [
    {
     "data": {
      "image/png": "[encoded data removed]",
      "text/plain": [
       "<Figure size 432x288 with 1 Axes>"
      ]
     },
     "metadata": {
      "needs_background": "light"
     },
     "output_type": "display_data"
    },
    {
     "data": {
      "image/png": "[encoded data removed]",
      "text/plain": [
       "<Figure size 432x288 with 1 Axes>"
      ]
     },
     "metadata": {
      "needs_background": "light"
     },
     "output_type": "display_data"
    },
    {
     "data": {
      "image/png": "[encoded data removed]",
      "text/plain": [
       "<Figure size 432x288 with 1 Axes>"
      ]
     },
     "metadata": {
      "needs_background": "light"
     },
     "output_type": "display_data"
    }
   ],
   "source": [
    "save_dir = '/home/sancere/VarunData/FROM_Victoire/VicTestMovie/BIGTest/ImageResults/'\n",
    "csv_dir = '/home/sancere/VarunData/FROM_Victoire/VicTestMovie/BIGTest/CSVResults/'\n",
    "image_dir =  '/home/sancere/VarunData/FROM_Victoire/VicTestMovie/BIGTest/'\n",
    "basedir =  '/home/sancere/VarunData/FROM_Victoire/VicTestMovie/BIGTest/'  \n",
    "\n",
    "Raw_path = os.path.join(image_dir,'*.tif')\n",
    "X = glob.glob(Raw_path)\n",
    "\n",
    "\n",
    "\n",
    "\n",
    "Path(save_dir).mkdir(exist_ok = True)\n",
    "\n",
    "\n",
    "for image_file in X:\n",
    "\n",
    "  image= imread(image_file)\n",
    "  image = np.asarray(image)\n",
    "  Name = os.path.basename((os.path.splitext(image_file)[0])) \n",
    "\n",
    "  #Division Events \n",
    "  csv_Name = Division + Name\n",
    "  csv_file = csv_dir + csv_Name + '.csv'\n",
    "\n",
    "  if os.path.exists(csv_file):\n",
    "\n",
    "      emptyimage = np.zeros([image.shape[0], image.shape[1], image.shape[2]], dtype='uint16')\n",
    "      TimelapseImage(csv_file, emptyimage, csv_Name, save_dir)\n",
    "      CountTimeLapseevents(csv_file,emptyimage, csv_Name, save_dir)\n",
    "\n",
    "  #Apoptosis Events \n",
    "  csv_Name = Apoptosis + Name\n",
    "  csv_file = csv_dir + csv_Name + '.csv'\n",
    "\n",
    "  if os.path.exists(csv_file):\n",
    "\n",
    "      emptyimage = np.zeros([image.shape[0], image.shape[1], image.shape[2]], dtype='uint16')\n",
    "      TimelapseImage(csv_file, emptyimage, csv_Name, save_dir)\n",
    "      CountTimeLapseevents(csv_file,emptyimage, csv_Name, save_dir)\n",
    "    \n",
    "  #Mature Events \n",
    "  csv_Name = Mature + Name\n",
    "  csv_file = csv_dir + csv_Name + '.csv'\n",
    "\n",
    "  if os.path.exists(csv_file):\n",
    "\n",
    "      emptyimage = np.zeros([image.shape[0], image.shape[1], image.shape[2]], dtype='uint16')\n",
    "      TimelapseImage(csv_file, emptyimage, csv_Name, save_dir)\n",
    "      CountTimeLapseevents(csv_file,emptyimage, 'Mature', save_dir)\n",
    "\n",
    "  #NonMature Events \n",
    "  csv_Name = NonMature + Name\n",
    "  csv_file = csv_dir + csv_Name + '.csv'\n",
    "\n",
    "  if os.path.exists(csv_file):\n",
    "\n",
    "      emptyimage = np.zeros([image.shape[0], image.shape[1], image.shape[2]], dtype='uint16')\n",
    "      TimelapseImage(csv_file, emptyimage, csv_Name, save_dir)\n",
    "      CountTimeLapseevents(csv_file,emptyimage, 'Non Mature', save_dir) \n",
    "    \n",
    " #Macrocheate Events \n",
    "  csv_Name = Macrocheate + Name\n",
    "  csv_file = csv_dir + csv_Name + '.csv'\n",
    "\n",
    "  if os.path.exists(csv_file):\n",
    "\n",
    "      emptyimage = np.zeros([image.shape[0], image.shape[1], image.shape[2]], dtype='uint16')\n",
    "      TimelapseImage(csv_file, emptyimage, csv_Name, save_dir)\n",
    "      CountTimeLapseevents(csv_file,emptyimage, 'MacroCheate', save_dir)   \n",
    "   \n",
    "  "
   ]
  },
  {
   "cell_type": "code",
   "execution_count": null,
   "metadata": {},
   "outputs": [],
   "source": []
  }
 ],
 "metadata": {
  "kernelspec": {
   "display_name": "Python 3",
   "language": "python",
   "name": "python3"
  },
  "language_info": {
   "codemirror_mode": {
    "name": "ipython",
    "version": 3
   },
   "file_extension": ".py",
   "mimetype": "text/x-python",
   "name": "python",
   "nbconvert_exporter": "python",
   "pygments_lexer": "ipython3",
   "version": "3.6.10"
  }
 },
 "nbformat": 4,
 "nbformat_minor": 4
}
